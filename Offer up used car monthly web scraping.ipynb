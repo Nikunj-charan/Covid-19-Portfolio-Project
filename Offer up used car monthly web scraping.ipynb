{
 "cells": [
  {
   "cell_type": "code",
   "execution_count": 1,
   "id": "666e3de6",
   "metadata": {},
   "outputs": [],
   "source": [
    "#importing all the necessary libraries \n",
    "from bs4 import BeautifulSoup\n",
    "import requests\n",
    "import time\n",
    "import datetime\n",
    "import pandas\n",
    "import smtplib\n",
    "import json"
   ]
  },
  {
   "cell_type": "code",
   "execution_count": 2,
   "id": "b75ad6c9",
   "metadata": {},
   "outputs": [],
   "source": [
    "#Connecting to the OfferUp website\n",
    "URL= 'https://offerup.com/search?q=used+cars'\n",
    "headers = {'User-Agent': 'Mozilla/5.0 (Windows NT 10.0; Win64; x64) AppleWebKit/537.36 (KHTML, like Gecko) Chrome/120.0.0.0 Safari/537.36',\n",
    "    'Accept-Language': 'en-US,en;q=0.5'}\n",
    "webpage = requests.get(URL,headers=headers)\n",
    "\n"
   ]
  },
  {
   "cell_type": "code",
   "execution_count": 3,
   "id": "dc3e6814",
   "metadata": {},
   "outputs": [
    {
     "data": {
      "text/plain": [
       "<Response [200]>"
      ]
     },
     "execution_count": 3,
     "metadata": {},
     "output_type": "execute_result"
    }
   ],
   "source": [
    "webpage"
   ]
  },
  {
   "cell_type": "code",
   "execution_count": 1,
   "id": "56c35c4e",
   "metadata": {},
   "outputs": [
    {
     "ename": "NameError",
     "evalue": "name 'BeautifulSoup' is not defined",
     "output_type": "error",
     "traceback": [
      "\u001b[1;31m---------------------------------------------------------------------------\u001b[0m",
      "\u001b[1;31mNameError\u001b[0m                                 Traceback (most recent call last)",
      "Cell \u001b[1;32mIn[1], line 2\u001b[0m\n\u001b[0;32m      1\u001b[0m \u001b[38;5;66;03m# Defining Variables to be used later in the code.\u001b[39;00m\n\u001b[1;32m----> 2\u001b[0m Soup1 \u001b[38;5;241m=\u001b[39m BeautifulSoup(webpage\u001b[38;5;241m.\u001b[39mcontent,\u001b[38;5;124m'\u001b[39m\u001b[38;5;124mhtml.parser\u001b[39m\u001b[38;5;124m'\u001b[39m)\n\u001b[0;32m      3\u001b[0m Soup2 \u001b[38;5;241m=\u001b[39m BeautifulSoup(Soup1\u001b[38;5;241m.\u001b[39mprettify(),\u001b[38;5;124m'\u001b[39m\u001b[38;5;124mhtml.parser\u001b[39m\u001b[38;5;124m'\u001b[39m)\n",
      "\u001b[1;31mNameError\u001b[0m: name 'BeautifulSoup' is not defined"
     ]
    }
   ],
   "source": [
    "# Defining Variables to be used later in the code.\n",
    "Soup1 = BeautifulSoup(webpage.content,'html.parser')\n",
    "Soup2 = BeautifulSoup(Soup1.prettify(),'html.parser')\n",
    "\n"
   ]
  },
  {
   "cell_type": "code",
   "execution_count": 23,
   "id": "d75d89a6",
   "metadata": {},
   "outputs": [],
   "source": [
    "car_listings = Soup2.find_all('a', class_='jss239 jss240 jss501 jss495')\n",
    "from bs4 import BeautifulSoup\n",
    "\n",
    "# Creating a list to store the data\n",
    "data = []\n",
    "\n",
    "# Iterating through each car listing\n",
    "for listing in car_listings:\n",
    "    # Extracting information from the listing\n",
    "    title = listing['title']\n",
    "\n",
    "    # Getting the aria-label attribute, handling cases where it may not be present\n",
    "    aria_label = listing.get('aria-label', '')\n",
    "    \n",
    "    # Extracting price, location, and vehicle miles\n",
    "    price_start = aria_label.find('$')\n",
    "    if price_start != -1:\n",
    "        price_end = aria_label.find(' ', price_start)\n",
    "        price = aria_label[price_start + 1:price_end].replace(',', '')\n",
    "\n",
    "    location_start = aria_label.find('in ')\n",
    "    if location_start != -1:\n",
    "        location = aria_label[location_start + 3:]\n",
    "\n",
    "    # Extracting vehicle miles based on the 'k miles' format\n",
    "    miles_start = aria_label.find('k miles')\n",
    "    if miles_start != -1:\n",
    "        miles_end = aria_label.find(' ', miles_start)\n",
    "        vehicle_miles = aria_label[miles_start - 3:miles_end].replace(',', '')\n",
    "    else:\n",
    "        # If 'k miles' is not found, extracting the miles in the '99k miles' format\n",
    "        miles_start_k = aria_label.find('k miles')\n",
    "        miles_start_miles = aria_label.find(' miles')\n",
    "\n",
    "        if miles_start_k != -1:\n",
    "            miles_end = aria_label.find(' ', miles_start_k)\n",
    "            vehicle_miles = aria_label[miles_start_k - 3:miles_end].replace(',', '')\n",
    "        elif miles_start_miles != -1:\n",
    "            miles_end = aria_label.find(' ', miles_start_miles)\n",
    "            vehicle_miles = aria_label[miles_start_miles - 3:miles_end].replace(',', '')\n",
    "        else:\n",
    "            # If neither 'k miles' nor ' miles' is found, I've set vehicle_miles to an empty string or another default value\n",
    "            vehicle_miles = \"\"\n",
    "\n",
    "    # Appending the information to the data list\n",
    "    data.append([title, price, location, vehicle_miles])\n",
    "\n",
    "\n",
    "\n"
   ]
  },
  {
   "cell_type": "code",
   "execution_count": 24,
   "id": "f4af9b5c",
   "metadata": {},
   "outputs": [
    {
     "name": "stdout",
     "output_type": "stream",
     "text": [
      "Data has been exported to C:\\Users\\rpsstudent\\Desktop\\my projects\\Amazon Web Scraping\\offer_up_used_car_listings.csv\n"
     ]
    }
   ],
   "source": [
    "Today = datetime.date.today()\n",
    "\n",
    "# Define the CSV file path\n",
    "csv_file_path = 'C:\\\\Users\\\\rpsstudent\\\\Desktop\\\\my projects\\\\Amazon Web Scraping\\\\offer_up_used_car_listings.csv'\n",
    "\n",
    "with open(csv_file_path, 'w', newline='', encoding='UTF8') as csv_file:\n",
    "    csv_writer = csv.writer(csv_file)\n",
    "    \n",
    "    # Creating the header\n",
    "    csv_writer.writerow(['Title', 'Price', 'Location', 'Vehicle Miles', 'Date'])\n",
    "    \n",
    "    # Inserting the data\n",
    "    csv_writer.writerows(data)\n",
    "\n",
    "print(f'Data has been exported to {csv_file_path}')"
   ]
  },
  {
   "cell_type": "code",
   "execution_count": null,
   "id": "220e1c17",
   "metadata": {},
   "outputs": [],
   "source": [
    "import schedule\n",
    "import time\n",
    "\n",
    "def scrape_and_export_data():\n",
    "    # Define the URL and headers\n",
    "    URL = 'https://offerup.com/search?q=used+cars'\n",
    "    headers = {\n",
    "        'User-Agent': 'Mozilla/5.0 (Windows NT 10.0; Win64; x64) AppleWebKit/537.36 (KHTML, like Gecko) Chrome/120.0.0.0 Safari/537.36',\n",
    "        'Accept-Language': 'en-US,en;q=0.5'\n",
    "    }\n",
    "\n",
    "    # Connecting to the website\n",
    "    webpage = requests.get(URL, headers=headers)\n",
    "    Soup1 = BeautifulSoup(webpage.content, 'html.parser')\n",
    "    Soup2 = BeautifulSoup(Soup1.prettify(), 'html.parser')\n",
    "\n",
    "    # Finding car listings\n",
    "    car_listings = Soup2.find_all('a', class_='jss239 jss240 jss501 jss495')\n",
    "\n",
    "    # Creating a list to store the data\n",
    "    data = []\n",
    "\n",
    "    # Iterating through each car listing\n",
    "    for listing in car_listings:\n",
    "        # Extract information from the listing\n",
    "        title = listing['title']\n",
    "\n",
    "        # Get the aria-label attribute, handling cases where it may not be present\n",
    "        aria_label = listing.get('aria-label', '')\n",
    "\n",
    "        # Extract price, location, and vehicle miles\n",
    "        price_start = aria_label.find('$')\n",
    "        if price_start != -1:\n",
    "            price_end = aria_label.find(' ', price_start)\n",
    "            price = aria_label[price_start + 1:price_end].replace(',', '')\n",
    "        else:\n",
    "            price = \"\"\n",
    "\n",
    "        location_start = aria_label.find('in ')\n",
    "        if location_start != -1:\n",
    "            location = aria_label[location_start + 3:]\n",
    "        else:\n",
    "            location = \"\"\n",
    "\n",
    "        # Extracting vehicle miles based on the 'k miles' format\n",
    "        miles_start = aria_label.find('k miles')\n",
    "        if miles_start != -1:\n",
    "            miles_end = aria_label.find(' ', miles_start)\n",
    "            vehicle_miles = aria_label[miles_start - 3:miles_end].replace(',', '')\n",
    "        else:\n",
    "            # If 'k miles' is not found, extracting the miles in the '99k miles' format\n",
    "            miles_start_k = aria_label.find('k miles')\n",
    "            miles_start_miles = aria_label.find(' miles')\n",
    "\n",
    "            if miles_start_k != -1:\n",
    "                miles_end = aria_label.find(' ', miles_start_k)\n",
    "                vehicle_miles = aria_label[miles_start_k - 3:miles_end].replace(',', '')\n",
    "            elif miles_start_miles != -1:\n",
    "                miles_end = aria_label.find(' ', miles_start_miles)\n",
    "                vehicle_miles = aria_label[miles_start_miles - 3:miles_end].replace(',', '')\n",
    "            else:\n",
    "                # If neither 'k miles' nor ' miles' is found, set vehicle_miles to an empty string or another default value\n",
    "                vehicle_miles = \"\"\n",
    "\n",
    "        # Append the information to the data list\n",
    "        data.append([title, price, location, vehicle_miles])\n",
    "\n",
    "    # Get the current date\n",
    "    today = datetime.date.today()\n",
    "\n",
    "    # Define the CSV file path\n",
    "    csv_file_path = 'C:\\\\Users\\\\rpsstudent\\\\Desktop\\\\my projects\\\\Amazon Web Scraping\\\\offer_up_used_car_listings.csv'\n",
    "\n",
    "    # Write the data to the CSV file\n",
    "    with open(csv_file_path, 'w', newline='', encoding='UTF8') as csv_file:\n",
    "        csv_writer = csv.writer(csv_file)\n",
    "\n",
    "        # Creating the header\n",
    "        csv_writer.writerow(['Title', 'Price', 'Location', 'Vehicle Miles', 'Date'])\n",
    "\n",
    "        # Inserting the data\n",
    "        csv_writer.writerows(data)\n",
    "\n",
    "    print(f'Data has been exported to {csv_file_path}')\n",
    "\n",
    "# Scheduling  the function to run every first of the month at a specific time\n",
    "schedule.every().day.at(\"12:00\").do(scrape_and_export_data).tag('monthly_task')\n",
    "\n",
    "while True:\n",
    "    schedule.run_pending()\n",
    "    time.sleep(30 * 24 * 60 * 60)\n"
   ]
  },
  {
   "cell_type": "code",
   "execution_count": null,
   "id": "9df7f0be",
   "metadata": {},
   "outputs": [],
   "source": []
  }
 ],
 "metadata": {
  "kernelspec": {
   "display_name": "Python 3 (ipykernel)",
   "language": "python",
   "name": "python3"
  },
  "language_info": {
   "codemirror_mode": {
    "name": "ipython",
    "version": 3
   },
   "file_extension": ".py",
   "mimetype": "text/x-python",
   "name": "python",
   "nbconvert_exporter": "python",
   "pygments_lexer": "ipython3",
   "version": "3.11.5"
  }
 },
 "nbformat": 4,
 "nbformat_minor": 5
}
